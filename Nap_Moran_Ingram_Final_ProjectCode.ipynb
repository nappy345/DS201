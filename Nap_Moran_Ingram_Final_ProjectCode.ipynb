{
  "nbformat": 4,
  "nbformat_minor": 0,
  "metadata": {
    "colab": {
      "provenance": []
    },
    "kernelspec": {
      "name": "python3",
      "display_name": "Python 3"
    },
    "language_info": {
      "name": "python"
    }
  },
  "cells": [
    {
      "cell_type": "markdown",
      "source": [
        "#Data Science Final Project\n",
        "###By: Ryan Napolitano, Will Moran, Seif Ingram"
      ],
      "metadata": {
        "id": "3rmoKSJUdsdb"
      }
    },
    {
      "cell_type": "markdown",
      "source": [
        "# Business Understanding\n",
        "In the modern era of the NBA, the trend of high-scoring offense has become a staple of the game. Today, teams use a variety of strategies to score points, from fast-paced drives to the basket to long-range three-pointers. Teams like the Golden State Warriors and Houston Rockets have been able to dominate the league by utilizing their offensive talents. The Warriors, for example, broke the record for the most three-pointers in a single season, while the Rockets have used their potent long-range shooting to become one of the most prolific scoring teams in the league. Point scoring and offense are vital to success in the NBA, and the teams that utilize these skills to their advantage are generally the ones that win titles. By focusing on offensive basketball, teams can generate points and build a strong foundation of success. Furthermore, as the NBA continues to evolve, so too must the strategies and skills of its teams, making point scoring and offense essential components of winning basketball.\n",
        "\n",
        "The offensive rating of an NBA team is a measure of their overall offensive production. This rating takes into account the quality of the shots taken, the pace of the game, the offensive efficiency, and other factors. By examining an NBA team's offensive rating, one can gain an understanding of how well they are producing on the offensive end. As such, the offensive rating of a team can have a substantial effect on the team's overall winning percentage. When teams have a higher offensive rating, they tend to score more points and win more games. Teams with a higher offensive rating also tend to have a better field goal percentage, which gives them an edge in close games. It also helps them spread the defense out, creating more scoring opportunities. Ultimately, having a higher offensive rating allows teams to outscore their opponents more often, resulting in an improved win-loss record. On the other hand, teams with a lower offensive rating tend to struggle more in close games and lack the necessary scoring output to pull out a victory.  Low offensive ratings can also make it more difficult for teams to establish a consistent offensive identity, leading to less effective offensive execution.  Overall, the offensive rating of an NBA team has a significant impact on their winning percentage. Thus, it is essential for teams to strive for an optimal offensive rating in order to maximize their chances of victory.\n",
        "\n",
        "This project places a focus on analyzing the relationship between teams' offensive ratings and defensive ratings and their win-loss percentage. Regressing these two variables will reveal if highly offensive teams do in fact see more success in the NBA. By reseacrhing the effects of defensive rating on win-loss percentage, we will be able to further confirm our hypothesis that the NBA has become more centered around offensive success. \n",
        "\n"
      ],
      "metadata": {
        "id": "dI3c_QTbd6pa"
      }
    },
    {
      "cell_type": "markdown",
      "source": [
        "#Data Understanding\n",
        "\n",
        "Our data came from Basketball Reference, which is a website that contains massive database of statistics from the NBA (formerly the ABA), G-League, NBL ,international leagues, and WNBA. We utilized their database to access team statistics for the seasons of 2001-2002 through 2021-2022.\n",
        "\n",
        "**Our Variables:**\n",
        "\n",
        "Rk -- Rank\n",
        "\n",
        "WIN -- Wins\n",
        "\n",
        "LOSS -- Losses\n",
        "\n",
        "W/L% -- Win-Loss Percentage (This will be our dependent variabel)\n",
        "\n",
        "MARGIN -- Margin of Victory\n",
        "\n",
        "OFFR -- Offensive Rating -- \n",
        "An estimate of points produced (players) or scored (teams) per 100 possessions\n",
        "\n",
        "DEFR -- Defensive Rating -- \n",
        "An estimate of points allowed per 100 possessions\n",
        "\n",
        "NETR -- Net Rating; an estimate of point differential per 100 possessions.\n",
        "\n",
        "MOV/A -- Adjusted Margin of Victory; margin of victory adjusted for strength of opponent.\n",
        "\n",
        "ORtg/A -- Adjusted Offensive Rating -- \n",
        "An estimate of points scored per 100 possessions adjusted for strength of opponent defense.\n",
        "\n",
        "DRtg/A -- Adjusted Defensive Rating -- \n",
        "An estimate of points allowed per 100 possessions adjusted for strength of opponent offense.\n",
        "\n",
        "NRtg/A -- Adjusted Net Rating; an estimate of point differential per 100 possessions adjusted for strength of opponent.\n",
        "\n",
        "\n",
        "https://www.basketball-reference.com/"
      ],
      "metadata": {
        "id": "J33SE-whd_28"
      }
    },
    {
      "cell_type": "markdown",
      "source": [
        "#Data Preperation\n",
        "\n",
        "To prep for our project, we used every teams' wins, losses, Offensive rating, defensive ratins, and W/l ratio for 20 years.  We ended up with 626 different data points for all given variables."
      ],
      "metadata": {
        "id": "GmNf0zPeefVZ"
      }
    },
    {
      "cell_type": "markdown",
      "source": [
        "#Exploratory Data Analysis"
      ],
      "metadata": {
        "id": "vmZZ52jOepfL"
      }
    },
    {
      "cell_type": "code",
      "source": [
        "#Setup\n",
        "import pandas as pd\n",
        "import matplotlib.pyplot as plt\n",
        "import seaborn as sns\n",
        "import numpy as np"
      ],
      "metadata": {
        "id": "IDfuBcpjkfIe"
      },
      "execution_count": null,
      "outputs": []
    },
    {
      "cell_type": "code",
      "source": [
        "#clone the github repository\n",
        "Use_Google_Drive= False #@param {type:\"boolean\"}\n",
        "\n",
        "if Use_Google_Drive:\n",
        "    import os\n",
        "    from google.colab import drive \n",
        "\n",
        "    drive.mount('/content/gdrive',force_remount=True)\n",
        "\n",
        "    Working_Directory = 'My Drive/Final_Proj_Nap_Ing_Mor' #@param {type:\"string\"}\n",
        "    wd=\"/content/gdrive/\"+Working_Directory\n",
        "    os.chdir(wd)\n",
        "\n",
        "    !git clone https://github.com/nappy345/nappy345.github.io\n",
        "    \n",
        "    %cd DS201.github.io/\n",
        "    dirpath = os.getcwd()\n",
        "    print(\"current directory is : \" + dirpath)\n",
        "\n",
        "    \n",
        "else:\n",
        "    !git clone https://github.com/nappy345/nappy345.github.io\n",
        "    %cd nappy345.github.io"
      ],
      "metadata": {
        "colab": {
          "base_uri": "https://localhost:8080/"
        },
        "id": "bc_ZrnitfO5E",
        "outputId": "cb4ea059-165a-4651-cfd3-71e12d9e0ca4"
      },
      "execution_count": null,
      "outputs": [
        {
          "output_type": "stream",
          "name": "stdout",
          "text": [
            "Cloning into 'nappy345.github.io'...\n",
            "remote: Enumerating objects: 31, done.\u001b[K\n",
            "remote: Counting objects: 100% (31/31), done.\u001b[K\n",
            "remote: Compressing objects: 100% (29/29), done.\u001b[K\n",
            "remote: Total 31 (delta 11), reused 0 (delta 0), pack-reused 0\u001b[K\n",
            "Unpacking objects: 100% (31/31), done.\n",
            "/content/gdrive/MyDrive/Final_Proj_Nap_Ing_Mor/nappy345.github.io/nappy345.github.io/nappy345.github.io/nappy345.github.io\n"
          ]
        }
      ]
    },
    {
      "cell_type": "code",
      "source": [
        "#reading in csv\n",
        "my_data= pd.read_csv(\"NBA_Data.csv\")\n",
        "my_data"
      ],
      "metadata": {
        "colab": {
          "base_uri": "https://localhost:8080/",
          "height": 419
        },
        "id": "HXPvDLfmkc1-",
        "outputId": "8896aa38-cbcf-420f-d8df-0307f637c864"
      },
      "execution_count": null,
      "outputs": [
        {
          "output_type": "execute_result",
          "data": {
            "text/plain": [
              "     Unnamed: 0  RANK                   Team CONFERENCE DIVISION  WIN  LOSS  \\\n",
              "0          2022     1           Phoenix Suns          W        P   64    18   \n",
              "1          2022     2      Memphis Grizzlies          W       SW   56    26   \n",
              "2          2022     3  Golden State Warriors          W        P   53    29   \n",
              "3          2022     4             Miami Heat          E       SE   53    29   \n",
              "4          2022     5       Dallas Mavericks          W       SW   52    30   \n",
              "..          ...   ...                    ...        ...      ...  ...   ...   \n",
              "622        2002    25        Houston Rockets          W        M   28    54   \n",
              "623        2002    26  Golden State Warriors          W        P   21    61   \n",
              "624        2002    27         Denver Nuggets          W        M   27    55   \n",
              "625        2002    28      Memphis Grizzlies          W        M   23    59   \n",
              "626        2002    29          Chicago Bulls          E        C   21    61   \n",
              "\n",
              "      W/L%  MARGIN    OFFR    DEFR  NETR  MOV/A  ORtg/A  DRtg/A  NRtg/A  \n",
              "0    0.780    7.50  115.65  108.17  7.48   6.94  115.41  108.50    6.91  \n",
              "1    0.683    5.68  115.50  109.94  5.56   5.37  115.38  110.14    5.24  \n",
              "2    0.646    5.54  113.33  107.68  5.65   5.52  113.24  107.62    5.62  \n",
              "3    0.646    4.45  114.83  110.21  4.62   4.23  114.61  110.21    4.40  \n",
              "4    0.634    3.30  113.82  110.27  3.55   3.12  113.76  110.41    3.35  \n",
              "..     ...     ...     ...     ...   ...    ...     ...     ...     ...  \n",
              "622  0.341   -4.89  103.93  109.55 -5.62  -4.31  104.08  109.03   -4.95  \n",
              "623  0.256   -5.40  103.56  109.28 -5.71  -4.80  103.70  108.74   -5.04  \n",
              "624  0.329   -5.82  102.34  108.68 -6.35  -5.19  102.44  108.08   -5.64  \n",
              "625  0.280   -7.44   98.90  107.09 -8.19  -6.74   98.92  106.32   -7.40  \n",
              "626  0.256   -8.54   99.05  108.56 -9.51  -8.52   99.21  108.72   -9.50  \n",
              "\n",
              "[627 rows x 16 columns]"
            ],
            "text/html": [
              "\n",
              "  <div id=\"df-78257531-1a1c-4557-ae3f-5ad2bd35d74c\">\n",
              "    <div class=\"colab-df-container\">\n",
              "      <div>\n",
              "<style scoped>\n",
              "    .dataframe tbody tr th:only-of-type {\n",
              "        vertical-align: middle;\n",
              "    }\n",
              "\n",
              "    .dataframe tbody tr th {\n",
              "        vertical-align: top;\n",
              "    }\n",
              "\n",
              "    .dataframe thead th {\n",
              "        text-align: right;\n",
              "    }\n",
              "</style>\n",
              "<table border=\"1\" class=\"dataframe\">\n",
              "  <thead>\n",
              "    <tr style=\"text-align: right;\">\n",
              "      <th></th>\n",
              "      <th>Unnamed: 0</th>\n",
              "      <th>RANK</th>\n",
              "      <th>Team</th>\n",
              "      <th>CONFERENCE</th>\n",
              "      <th>DIVISION</th>\n",
              "      <th>WIN</th>\n",
              "      <th>LOSS</th>\n",
              "      <th>W/L%</th>\n",
              "      <th>MARGIN</th>\n",
              "      <th>OFFR</th>\n",
              "      <th>DEFR</th>\n",
              "      <th>NETR</th>\n",
              "      <th>MOV/A</th>\n",
              "      <th>ORtg/A</th>\n",
              "      <th>DRtg/A</th>\n",
              "      <th>NRtg/A</th>\n",
              "    </tr>\n",
              "  </thead>\n",
              "  <tbody>\n",
              "    <tr>\n",
              "      <th>0</th>\n",
              "      <td>2022</td>\n",
              "      <td>1</td>\n",
              "      <td>Phoenix Suns</td>\n",
              "      <td>W</td>\n",
              "      <td>P</td>\n",
              "      <td>64</td>\n",
              "      <td>18</td>\n",
              "      <td>0.780</td>\n",
              "      <td>7.50</td>\n",
              "      <td>115.65</td>\n",
              "      <td>108.17</td>\n",
              "      <td>7.48</td>\n",
              "      <td>6.94</td>\n",
              "      <td>115.41</td>\n",
              "      <td>108.50</td>\n",
              "      <td>6.91</td>\n",
              "    </tr>\n",
              "    <tr>\n",
              "      <th>1</th>\n",
              "      <td>2022</td>\n",
              "      <td>2</td>\n",
              "      <td>Memphis Grizzlies</td>\n",
              "      <td>W</td>\n",
              "      <td>SW</td>\n",
              "      <td>56</td>\n",
              "      <td>26</td>\n",
              "      <td>0.683</td>\n",
              "      <td>5.68</td>\n",
              "      <td>115.50</td>\n",
              "      <td>109.94</td>\n",
              "      <td>5.56</td>\n",
              "      <td>5.37</td>\n",
              "      <td>115.38</td>\n",
              "      <td>110.14</td>\n",
              "      <td>5.24</td>\n",
              "    </tr>\n",
              "    <tr>\n",
              "      <th>2</th>\n",
              "      <td>2022</td>\n",
              "      <td>3</td>\n",
              "      <td>Golden State Warriors</td>\n",
              "      <td>W</td>\n",
              "      <td>P</td>\n",
              "      <td>53</td>\n",
              "      <td>29</td>\n",
              "      <td>0.646</td>\n",
              "      <td>5.54</td>\n",
              "      <td>113.33</td>\n",
              "      <td>107.68</td>\n",
              "      <td>5.65</td>\n",
              "      <td>5.52</td>\n",
              "      <td>113.24</td>\n",
              "      <td>107.62</td>\n",
              "      <td>5.62</td>\n",
              "    </tr>\n",
              "    <tr>\n",
              "      <th>3</th>\n",
              "      <td>2022</td>\n",
              "      <td>4</td>\n",
              "      <td>Miami Heat</td>\n",
              "      <td>E</td>\n",
              "      <td>SE</td>\n",
              "      <td>53</td>\n",
              "      <td>29</td>\n",
              "      <td>0.646</td>\n",
              "      <td>4.45</td>\n",
              "      <td>114.83</td>\n",
              "      <td>110.21</td>\n",
              "      <td>4.62</td>\n",
              "      <td>4.23</td>\n",
              "      <td>114.61</td>\n",
              "      <td>110.21</td>\n",
              "      <td>4.40</td>\n",
              "    </tr>\n",
              "    <tr>\n",
              "      <th>4</th>\n",
              "      <td>2022</td>\n",
              "      <td>5</td>\n",
              "      <td>Dallas Mavericks</td>\n",
              "      <td>W</td>\n",
              "      <td>SW</td>\n",
              "      <td>52</td>\n",
              "      <td>30</td>\n",
              "      <td>0.634</td>\n",
              "      <td>3.30</td>\n",
              "      <td>113.82</td>\n",
              "      <td>110.27</td>\n",
              "      <td>3.55</td>\n",
              "      <td>3.12</td>\n",
              "      <td>113.76</td>\n",
              "      <td>110.41</td>\n",
              "      <td>3.35</td>\n",
              "    </tr>\n",
              "    <tr>\n",
              "      <th>...</th>\n",
              "      <td>...</td>\n",
              "      <td>...</td>\n",
              "      <td>...</td>\n",
              "      <td>...</td>\n",
              "      <td>...</td>\n",
              "      <td>...</td>\n",
              "      <td>...</td>\n",
              "      <td>...</td>\n",
              "      <td>...</td>\n",
              "      <td>...</td>\n",
              "      <td>...</td>\n",
              "      <td>...</td>\n",
              "      <td>...</td>\n",
              "      <td>...</td>\n",
              "      <td>...</td>\n",
              "      <td>...</td>\n",
              "    </tr>\n",
              "    <tr>\n",
              "      <th>622</th>\n",
              "      <td>2002</td>\n",
              "      <td>25</td>\n",
              "      <td>Houston Rockets</td>\n",
              "      <td>W</td>\n",
              "      <td>M</td>\n",
              "      <td>28</td>\n",
              "      <td>54</td>\n",
              "      <td>0.341</td>\n",
              "      <td>-4.89</td>\n",
              "      <td>103.93</td>\n",
              "      <td>109.55</td>\n",
              "      <td>-5.62</td>\n",
              "      <td>-4.31</td>\n",
              "      <td>104.08</td>\n",
              "      <td>109.03</td>\n",
              "      <td>-4.95</td>\n",
              "    </tr>\n",
              "    <tr>\n",
              "      <th>623</th>\n",
              "      <td>2002</td>\n",
              "      <td>26</td>\n",
              "      <td>Golden State Warriors</td>\n",
              "      <td>W</td>\n",
              "      <td>P</td>\n",
              "      <td>21</td>\n",
              "      <td>61</td>\n",
              "      <td>0.256</td>\n",
              "      <td>-5.40</td>\n",
              "      <td>103.56</td>\n",
              "      <td>109.28</td>\n",
              "      <td>-5.71</td>\n",
              "      <td>-4.80</td>\n",
              "      <td>103.70</td>\n",
              "      <td>108.74</td>\n",
              "      <td>-5.04</td>\n",
              "    </tr>\n",
              "    <tr>\n",
              "      <th>624</th>\n",
              "      <td>2002</td>\n",
              "      <td>27</td>\n",
              "      <td>Denver Nuggets</td>\n",
              "      <td>W</td>\n",
              "      <td>M</td>\n",
              "      <td>27</td>\n",
              "      <td>55</td>\n",
              "      <td>0.329</td>\n",
              "      <td>-5.82</td>\n",
              "      <td>102.34</td>\n",
              "      <td>108.68</td>\n",
              "      <td>-6.35</td>\n",
              "      <td>-5.19</td>\n",
              "      <td>102.44</td>\n",
              "      <td>108.08</td>\n",
              "      <td>-5.64</td>\n",
              "    </tr>\n",
              "    <tr>\n",
              "      <th>625</th>\n",
              "      <td>2002</td>\n",
              "      <td>28</td>\n",
              "      <td>Memphis Grizzlies</td>\n",
              "      <td>W</td>\n",
              "      <td>M</td>\n",
              "      <td>23</td>\n",
              "      <td>59</td>\n",
              "      <td>0.280</td>\n",
              "      <td>-7.44</td>\n",
              "      <td>98.90</td>\n",
              "      <td>107.09</td>\n",
              "      <td>-8.19</td>\n",
              "      <td>-6.74</td>\n",
              "      <td>98.92</td>\n",
              "      <td>106.32</td>\n",
              "      <td>-7.40</td>\n",
              "    </tr>\n",
              "    <tr>\n",
              "      <th>626</th>\n",
              "      <td>2002</td>\n",
              "      <td>29</td>\n",
              "      <td>Chicago Bulls</td>\n",
              "      <td>E</td>\n",
              "      <td>C</td>\n",
              "      <td>21</td>\n",
              "      <td>61</td>\n",
              "      <td>0.256</td>\n",
              "      <td>-8.54</td>\n",
              "      <td>99.05</td>\n",
              "      <td>108.56</td>\n",
              "      <td>-9.51</td>\n",
              "      <td>-8.52</td>\n",
              "      <td>99.21</td>\n",
              "      <td>108.72</td>\n",
              "      <td>-9.50</td>\n",
              "    </tr>\n",
              "  </tbody>\n",
              "</table>\n",
              "<p>627 rows × 16 columns</p>\n",
              "</div>\n",
              "      <button class=\"colab-df-convert\" onclick=\"convertToInteractive('df-78257531-1a1c-4557-ae3f-5ad2bd35d74c')\"\n",
              "              title=\"Convert this dataframe to an interactive table.\"\n",
              "              style=\"display:none;\">\n",
              "        \n",
              "  <svg xmlns=\"http://www.w3.org/2000/svg\" height=\"24px\"viewBox=\"0 0 24 24\"\n",
              "       width=\"24px\">\n",
              "    <path d=\"M0 0h24v24H0V0z\" fill=\"none\"/>\n",
              "    <path d=\"M18.56 5.44l.94 2.06.94-2.06 2.06-.94-2.06-.94-.94-2.06-.94 2.06-2.06.94zm-11 1L8.5 8.5l.94-2.06 2.06-.94-2.06-.94L8.5 2.5l-.94 2.06-2.06.94zm10 10l.94 2.06.94-2.06 2.06-.94-2.06-.94-.94-2.06-.94 2.06-2.06.94z\"/><path d=\"M17.41 7.96l-1.37-1.37c-.4-.4-.92-.59-1.43-.59-.52 0-1.04.2-1.43.59L10.3 9.45l-7.72 7.72c-.78.78-.78 2.05 0 2.83L4 21.41c.39.39.9.59 1.41.59.51 0 1.02-.2 1.41-.59l7.78-7.78 2.81-2.81c.8-.78.8-2.07 0-2.86zM5.41 20L4 18.59l7.72-7.72 1.47 1.35L5.41 20z\"/>\n",
              "  </svg>\n",
              "      </button>\n",
              "      \n",
              "  <style>\n",
              "    .colab-df-container {\n",
              "      display:flex;\n",
              "      flex-wrap:wrap;\n",
              "      gap: 12px;\n",
              "    }\n",
              "\n",
              "    .colab-df-convert {\n",
              "      background-color: #E8F0FE;\n",
              "      border: none;\n",
              "      border-radius: 50%;\n",
              "      cursor: pointer;\n",
              "      display: none;\n",
              "      fill: #1967D2;\n",
              "      height: 32px;\n",
              "      padding: 0 0 0 0;\n",
              "      width: 32px;\n",
              "    }\n",
              "\n",
              "    .colab-df-convert:hover {\n",
              "      background-color: #E2EBFA;\n",
              "      box-shadow: 0px 1px 2px rgba(60, 64, 67, 0.3), 0px 1px 3px 1px rgba(60, 64, 67, 0.15);\n",
              "      fill: #174EA6;\n",
              "    }\n",
              "\n",
              "    [theme=dark] .colab-df-convert {\n",
              "      background-color: #3B4455;\n",
              "      fill: #D2E3FC;\n",
              "    }\n",
              "\n",
              "    [theme=dark] .colab-df-convert:hover {\n",
              "      background-color: #434B5C;\n",
              "      box-shadow: 0px 1px 3px 1px rgba(0, 0, 0, 0.15);\n",
              "      filter: drop-shadow(0px 1px 2px rgba(0, 0, 0, 0.3));\n",
              "      fill: #FFFFFF;\n",
              "    }\n",
              "  </style>\n",
              "\n",
              "      <script>\n",
              "        const buttonEl =\n",
              "          document.querySelector('#df-78257531-1a1c-4557-ae3f-5ad2bd35d74c button.colab-df-convert');\n",
              "        buttonEl.style.display =\n",
              "          google.colab.kernel.accessAllowed ? 'block' : 'none';\n",
              "\n",
              "        async function convertToInteractive(key) {\n",
              "          const element = document.querySelector('#df-78257531-1a1c-4557-ae3f-5ad2bd35d74c');\n",
              "          const dataTable =\n",
              "            await google.colab.kernel.invokeFunction('convertToInteractive',\n",
              "                                                     [key], {});\n",
              "          if (!dataTable) return;\n",
              "\n",
              "          const docLinkHtml = 'Like what you see? Visit the ' +\n",
              "            '<a target=\"_blank\" href=https://colab.research.google.com/notebooks/data_table.ipynb>data table notebook</a>'\n",
              "            + ' to learn more about interactive tables.';\n",
              "          element.innerHTML = '';\n",
              "          dataTable['output_type'] = 'display_data';\n",
              "          await google.colab.output.renderOutput(dataTable, element);\n",
              "          const docLink = document.createElement('div');\n",
              "          docLink.innerHTML = docLinkHtml;\n",
              "          element.appendChild(docLink);\n",
              "        }\n",
              "      </script>\n",
              "    </div>\n",
              "  </div>\n",
              "  "
            ]
          },
          "metadata": {},
          "execution_count": 47
        }
      ]
    },
    {
      "cell_type": "markdown",
      "source": [
        "##Summary Statistics\n",
        "Looking at the summary statistics, we can see that the average team Offensive Rating is 108.02. The average team Defensive Rating is 108.04. The average win/loss percentage for a team each season is 50% The average amount of wins for a team each season is 40.10. \n"
      ],
      "metadata": {
        "id": "fnALVGcfR6KU"
      }
    },
    {
      "cell_type": "code",
      "source": [
        "#Summary Statistics\n",
        "my_data[[\"OFFR\",\"DEFR\",\"W/L%\",\"WIN\"]].describe()"
      ],
      "metadata": {
        "colab": {
          "base_uri": "https://localhost:8080/",
          "height": 297
        },
        "id": "HibbhiiPlbX-",
        "outputId": "2a36bd84-4eb9-4a78-ac88-e27ce483e755"
      },
      "execution_count": null,
      "outputs": [
        {
          "output_type": "execute_result",
          "data": {
            "text/plain": [
              "             OFFR        DEFR        W/L%         WIN\n",
              "count  627.000000  627.000000  627.000000  627.000000\n",
              "mean   108.029872  108.037368    0.499756   40.103668\n",
              "std      4.092495    3.891040    0.149308   12.243552\n",
              "min     93.200000   94.790000    0.106000    7.000000\n",
              "25%    105.195000  105.340000    0.390000   31.500000\n",
              "50%    107.660000  108.010000    0.512000   41.000000\n",
              "75%    111.105000  110.915000    0.610000   49.000000\n",
              "max    118.910000  118.540000    0.890000   73.000000"
            ],
            "text/html": [
              "\n",
              "  <div id=\"df-1349b0f8-f1e8-405c-93ae-fe2db899fb78\">\n",
              "    <div class=\"colab-df-container\">\n",
              "      <div>\n",
              "<style scoped>\n",
              "    .dataframe tbody tr th:only-of-type {\n",
              "        vertical-align: middle;\n",
              "    }\n",
              "\n",
              "    .dataframe tbody tr th {\n",
              "        vertical-align: top;\n",
              "    }\n",
              "\n",
              "    .dataframe thead th {\n",
              "        text-align: right;\n",
              "    }\n",
              "</style>\n",
              "<table border=\"1\" class=\"dataframe\">\n",
              "  <thead>\n",
              "    <tr style=\"text-align: right;\">\n",
              "      <th></th>\n",
              "      <th>OFFR</th>\n",
              "      <th>DEFR</th>\n",
              "      <th>W/L%</th>\n",
              "      <th>WIN</th>\n",
              "    </tr>\n",
              "  </thead>\n",
              "  <tbody>\n",
              "    <tr>\n",
              "      <th>count</th>\n",
              "      <td>627.000000</td>\n",
              "      <td>627.000000</td>\n",
              "      <td>627.000000</td>\n",
              "      <td>627.000000</td>\n",
              "    </tr>\n",
              "    <tr>\n",
              "      <th>mean</th>\n",
              "      <td>108.029872</td>\n",
              "      <td>108.037368</td>\n",
              "      <td>0.499756</td>\n",
              "      <td>40.103668</td>\n",
              "    </tr>\n",
              "    <tr>\n",
              "      <th>std</th>\n",
              "      <td>4.092495</td>\n",
              "      <td>3.891040</td>\n",
              "      <td>0.149308</td>\n",
              "      <td>12.243552</td>\n",
              "    </tr>\n",
              "    <tr>\n",
              "      <th>min</th>\n",
              "      <td>93.200000</td>\n",
              "      <td>94.790000</td>\n",
              "      <td>0.106000</td>\n",
              "      <td>7.000000</td>\n",
              "    </tr>\n",
              "    <tr>\n",
              "      <th>25%</th>\n",
              "      <td>105.195000</td>\n",
              "      <td>105.340000</td>\n",
              "      <td>0.390000</td>\n",
              "      <td>31.500000</td>\n",
              "    </tr>\n",
              "    <tr>\n",
              "      <th>50%</th>\n",
              "      <td>107.660000</td>\n",
              "      <td>108.010000</td>\n",
              "      <td>0.512000</td>\n",
              "      <td>41.000000</td>\n",
              "    </tr>\n",
              "    <tr>\n",
              "      <th>75%</th>\n",
              "      <td>111.105000</td>\n",
              "      <td>110.915000</td>\n",
              "      <td>0.610000</td>\n",
              "      <td>49.000000</td>\n",
              "    </tr>\n",
              "    <tr>\n",
              "      <th>max</th>\n",
              "      <td>118.910000</td>\n",
              "      <td>118.540000</td>\n",
              "      <td>0.890000</td>\n",
              "      <td>73.000000</td>\n",
              "    </tr>\n",
              "  </tbody>\n",
              "</table>\n",
              "</div>\n",
              "      <button class=\"colab-df-convert\" onclick=\"convertToInteractive('df-1349b0f8-f1e8-405c-93ae-fe2db899fb78')\"\n",
              "              title=\"Convert this dataframe to an interactive table.\"\n",
              "              style=\"display:none;\">\n",
              "        \n",
              "  <svg xmlns=\"http://www.w3.org/2000/svg\" height=\"24px\"viewBox=\"0 0 24 24\"\n",
              "       width=\"24px\">\n",
              "    <path d=\"M0 0h24v24H0V0z\" fill=\"none\"/>\n",
              "    <path d=\"M18.56 5.44l.94 2.06.94-2.06 2.06-.94-2.06-.94-.94-2.06-.94 2.06-2.06.94zm-11 1L8.5 8.5l.94-2.06 2.06-.94-2.06-.94L8.5 2.5l-.94 2.06-2.06.94zm10 10l.94 2.06.94-2.06 2.06-.94-2.06-.94-.94-2.06-.94 2.06-2.06.94z\"/><path d=\"M17.41 7.96l-1.37-1.37c-.4-.4-.92-.59-1.43-.59-.52 0-1.04.2-1.43.59L10.3 9.45l-7.72 7.72c-.78.78-.78 2.05 0 2.83L4 21.41c.39.39.9.59 1.41.59.51 0 1.02-.2 1.41-.59l7.78-7.78 2.81-2.81c.8-.78.8-2.07 0-2.86zM5.41 20L4 18.59l7.72-7.72 1.47 1.35L5.41 20z\"/>\n",
              "  </svg>\n",
              "      </button>\n",
              "      \n",
              "  <style>\n",
              "    .colab-df-container {\n",
              "      display:flex;\n",
              "      flex-wrap:wrap;\n",
              "      gap: 12px;\n",
              "    }\n",
              "\n",
              "    .colab-df-convert {\n",
              "      background-color: #E8F0FE;\n",
              "      border: none;\n",
              "      border-radius: 50%;\n",
              "      cursor: pointer;\n",
              "      display: none;\n",
              "      fill: #1967D2;\n",
              "      height: 32px;\n",
              "      padding: 0 0 0 0;\n",
              "      width: 32px;\n",
              "    }\n",
              "\n",
              "    .colab-df-convert:hover {\n",
              "      background-color: #E2EBFA;\n",
              "      box-shadow: 0px 1px 2px rgba(60, 64, 67, 0.3), 0px 1px 3px 1px rgba(60, 64, 67, 0.15);\n",
              "      fill: #174EA6;\n",
              "    }\n",
              "\n",
              "    [theme=dark] .colab-df-convert {\n",
              "      background-color: #3B4455;\n",
              "      fill: #D2E3FC;\n",
              "    }\n",
              "\n",
              "    [theme=dark] .colab-df-convert:hover {\n",
              "      background-color: #434B5C;\n",
              "      box-shadow: 0px 1px 3px 1px rgba(0, 0, 0, 0.15);\n",
              "      filter: drop-shadow(0px 1px 2px rgba(0, 0, 0, 0.3));\n",
              "      fill: #FFFFFF;\n",
              "    }\n",
              "  </style>\n",
              "\n",
              "      <script>\n",
              "        const buttonEl =\n",
              "          document.querySelector('#df-1349b0f8-f1e8-405c-93ae-fe2db899fb78 button.colab-df-convert');\n",
              "        buttonEl.style.display =\n",
              "          google.colab.kernel.accessAllowed ? 'block' : 'none';\n",
              "\n",
              "        async function convertToInteractive(key) {\n",
              "          const element = document.querySelector('#df-1349b0f8-f1e8-405c-93ae-fe2db899fb78');\n",
              "          const dataTable =\n",
              "            await google.colab.kernel.invokeFunction('convertToInteractive',\n",
              "                                                     [key], {});\n",
              "          if (!dataTable) return;\n",
              "\n",
              "          const docLinkHtml = 'Like what you see? Visit the ' +\n",
              "            '<a target=\"_blank\" href=https://colab.research.google.com/notebooks/data_table.ipynb>data table notebook</a>'\n",
              "            + ' to learn more about interactive tables.';\n",
              "          element.innerHTML = '';\n",
              "          dataTable['output_type'] = 'display_data';\n",
              "          await google.colab.output.renderOutput(dataTable, element);\n",
              "          const docLink = document.createElement('div');\n",
              "          docLink.innerHTML = docLinkHtml;\n",
              "          element.appendChild(docLink);\n",
              "        }\n",
              "      </script>\n",
              "    </div>\n",
              "  </div>\n",
              "  "
            ]
          },
          "metadata": {},
          "execution_count": 48
        }
      ]
    },
    {
      "cell_type": "markdown",
      "source": [
        "##Scatter Plot of Offensive Rating vs. Win/Loss Percentage\n",
        "Looking at the scatter plot, we can see there is a clearly positive linear relationship. As a team’s Offensive Rating increases, so does the team’s Win/Loss%. \n"
      ],
      "metadata": {
        "id": "kFpDhebfR9vM"
      }
    },
    {
      "cell_type": "code",
      "source": [
        "#Scatter Plots of W/L% in relation to Team Offensive rating\n",
        "wins = my_data[\"W/L%\"]\n",
        "OFFR = my_data[\"OFFR\"]\n",
        "\n",
        "plt.scatter(OFFR, wins)\n",
        "plt.title('Team Offensive Rating vs W/L%')\n",
        "plt.xlabel('Team Offensive Rating')\n",
        "plt.ylabel('W/L%')"
      ],
      "metadata": {
        "colab": {
          "base_uri": "https://localhost:8080/",
          "height": 312
        },
        "id": "4mmfI_zulq_3",
        "outputId": "021e4b27-bfbb-45f0-80eb-4d1817874c1c"
      },
      "execution_count": null,
      "outputs": [
        {
          "output_type": "execute_result",
          "data": {
            "text/plain": [
              "Text(0, 0.5, 'W/L%')"
            ]
          },
          "metadata": {},
          "execution_count": 60
        },
        {
          "output_type": "display_data",
          "data": {
            "text/plain": [
              "<Figure size 432x288 with 1 Axes>"
            ],
            "image/png": "[encoded data removed]"
          },
          "metadata": {
            "needs_background": "light"
          }
        }
      ]
    },
    {
      "cell_type": "markdown",
      "source": [
        "##Scatter Plot of Defensive Rating vs. Win/Loss Percentage\n",
        "Looking at the scatter plot, we can see there is a clearly negative linear relationship. As the team’s Defensive Rating increases, their Win/Loss% Increases.\n"
      ],
      "metadata": {
        "id": "5GvJA4kkSASv"
      }
    },
    {
      "cell_type": "code",
      "source": [
        "#Scatter Plot of W/L% in relation to Team Defensive Rating\n",
        "DEFR = my_data[\"DEFR\"]\n",
        "\n",
        "plt.scatter(DEFR, wins)\n",
        "\n",
        "plt.title('DEFR vs W/L%')\n",
        "plt.xlabel('DEFR')\n",
        "plt.ylabel('W/L%')"
      ],
      "metadata": {
        "colab": {
          "base_uri": "https://localhost:8080/",
          "height": 312
        },
        "id": "0VIHyupUm8Sv",
        "outputId": "1c5801d6-c2dc-4882-cfb0-6f80a9c05d69"
      },
      "execution_count": null,
      "outputs": [
        {
          "output_type": "execute_result",
          "data": {
            "text/plain": [
              "Text(0, 0.5, 'W/L%')"
            ]
          },
          "metadata": {},
          "execution_count": 64
        },
        {
          "output_type": "display_data",
          "data": {
            "text/plain": [
              "<Figure size 432x288 with 1 Axes>"
            ],
            "image/png": "[encoded data removed]"
          },
          "metadata": {
            "needs_background": "light"
          }
        }
      ]
    },
    {
      "cell_type": "markdown",
      "source": [
        "##Comparison of Scatter Plots\n",
        "Looking at the offensive and defensive metrics next to each other it is apparent that to see that a better offensive team is more likely to win more games. This also includes having a low defensive rating.  A better defense does win more games but at a flatter slope.  Meaning that a higher offensive rating \n"
      ],
      "metadata": {
        "id": "icA-f4ChSE9C"
      }
    },
    {
      "cell_type": "code",
      "source": [
        "#Visualize the relationship between the features and the response using scatterplots\n",
        "sns.pairplot(my_data, x_vars=['OFFR','DEFR'], y_vars='WIN', size=7, aspect=0.7)"
      ],
      "metadata": {
        "colab": {
          "base_uri": "https://localhost:8080/",
          "height": 566
        },
        "id": "3O9liGmdNcpp",
        "outputId": "ca841e26-7929-4e50-90ef-38cbadfeab51"
      },
      "execution_count": null,
      "outputs": [
        {
          "output_type": "stream",
          "name": "stderr",
          "text": [
            "/usr/local/lib/python3.8/dist-packages/seaborn/axisgrid.py:2076: UserWarning: The `size` parameter has been renamed to `height`; please update your code.\n",
            "  warnings.warn(msg, UserWarning)\n"
          ]
        },
        {
          "output_type": "execute_result",
          "data": {
            "text/plain": [
              "<seaborn.axisgrid.PairGrid at 0x7f64883331f0>"
            ]
          },
          "metadata": {},
          "execution_count": 51
        },
        {
          "output_type": "display_data",
          "data": {
            "text/plain": [
              "<Figure size 705.6x504 with 2 Axes>"
            ],
            "image/png": "[encoded data removed]"
          },
          "metadata": {
            "needs_background": "light"
          }
        }
      ]
    },
    {
      "cell_type": "markdown",
      "source": [
        "#Machine Learning Model and Evaluation"
      ],
      "metadata": {
        "id": "B_BvRhcres6X"
      }
    },
    {
      "cell_type": "markdown",
      "source": [
        "##Linear Regression Model\n",
        "After running the linear regression model, we found a slope coefficient of 0.02, meaning that for every additional point of team’s offensive rating, a team win/loss% increases by about 2.3%. This regression has a Y-intercept of -1.95. \n",
        "\n",
        "When evaluating our model, we used the metric of RMSE. Our RMSE ended up being very small at 0.01 signifying a very small and insignificant deviation in our variance. Meaning we had a good model fit."
      ],
      "metadata": {
        "id": "chvWuJHaTeau"
      }
    },
    {
      "cell_type": "code",
      "source": [
        "from numpy.ma.core import size\n",
        "#Simple Linear Regression Model\n",
        "X = my_data[\"OFFR\"] #get a copy of dataset exclude last column\n",
        "y = my_data[\"W/L%\"] #get array of dataset in column 1st\n",
        "\n",
        "#Use only one feature\n",
        "X = X[:, np.newaxis]\n",
        "\n",
        "# Splitting the varaibles as training and testing\n",
        "from sklearn.model_selection import train_test_split\n",
        "X_train, X_test, y_train, y_test = train_test_split(X, y, train_size = 0.7, test_size = 0.3, random_state = 100)\n",
        "\n",
        "#Run Linear Regression\n",
        "from sklearn.linear_model import LinearRegression\n",
        "regressor = LinearRegression(fit_intercept=True)\n",
        "regressor.fit(X_train, y_train)\n",
        "\n",
        "# Make predictions using the testing set\n",
        "y_pred = regressor.predict(X_test)\n",
        "\n",
        "# The coefficients\n",
        "from sklearn import datasets, linear_model\n",
        "from sklearn.metrics import mean_squared_error, r2_score\n",
        "print(\"Coefficients: \\n\", regressor.coef_)\n",
        "print(\"Y-Intercept: \\n\", regressor.intercept_)\n",
        "# The mean squared error\n",
        "print(\"Root Mean squared error: %.2f\" % mean_squared_error(y_test, y_pred))\n",
        "# The coefficient of determination: 1 is perfect prediction\n",
        "print(\"Coefficient of determination: %.2f\" % r2_score(y_test, y_pred))"
      ],
      "metadata": {
        "colab": {
          "base_uri": "https://localhost:8080/"
        },
        "id": "gZXx-k9wua8_",
        "outputId": "bf9f8f39-fae0-418a-b0da-ea66c21b0bb2"
      },
      "execution_count": null,
      "outputs": [
        {
          "output_type": "stream",
          "name": "stdout",
          "text": [
            "Coefficients: \n",
            " [0.02268099]\n",
            "Y-Intercept: \n",
            " -1.9482172557770767\n",
            "Root Mean squared error: 0.01\n",
            "Coefficient of determination: 0.33\n"
          ]
        },
        {
          "output_type": "stream",
          "name": "stderr",
          "text": [
            "<ipython-input-52-156d353aaf46>:7: FutureWarning: Support for multi-dimensional indexing (e.g. `obj[:, None]`) is deprecated and will be removed in a future version.  Convert to a numpy array before indexing instead.\n",
            "  X = X[:, np.newaxis]\n"
          ]
        }
      ]
    },
    {
      "cell_type": "markdown",
      "source": [
        "##Training Set Graph"
      ],
      "metadata": {
        "id": "KloyHE09W4UL"
      }
    },
    {
      "cell_type": "code",
      "source": [
        "# Visualizing the Training set results\n",
        "plt.scatter(X_train, y_train, color='red')\n",
        "plt.plot(X_train, regressor.predict(X_train), color='blue')\n",
        "plt.title('Wins VS Offensive Team Rating (Training set)')\n",
        "plt.xlabel('Offensive Team Rating')\n",
        "plt.ylabel('Wins')\n",
        "plt.show()"
      ],
      "metadata": {
        "colab": {
          "base_uri": "https://localhost:8080/",
          "height": 295
        },
        "id": "OoY4J-ZmS3Pq",
        "outputId": "4300f81a-0469-4da4-ea6e-975929741cfe"
      },
      "execution_count": null,
      "outputs": [
        {
          "output_type": "display_data",
          "data": {
            "text/plain": [
              "<Figure size 432x288 with 1 Axes>"
            ],
            "image/png": "[encoded data removed]"
          },
          "metadata": {
            "needs_background": "light"
          }
        }
      ]
    },
    {
      "cell_type": "markdown",
      "source": [
        "##Test Set Graph"
      ],
      "metadata": {
        "id": "8qKN38hcXDp2"
      }
    },
    {
      "cell_type": "code",
      "source": [
        "# Visualizing the Test set results\n",
        "plt.scatter(X_test, y_test, color='red')\n",
        "plt.plot(X_train, regressor.predict(X_train), color='blue')\n",
        "plt.title('Wins VS Offensive Team Rating (Test set)')\n",
        "plt.xlabel('Offensive Team rating')\n",
        "plt.ylabel('Wins')\n",
        "plt.show()"
      ],
      "metadata": {
        "id": "EZ_G2O8mS8Nl",
        "colab": {
          "base_uri": "https://localhost:8080/",
          "height": 295
        },
        "outputId": "2945fb9e-2e5e-4e3e-c4f3-430537a47feb"
      },
      "execution_count": null,
      "outputs": [
        {
          "output_type": "display_data",
          "data": {
            "text/plain": [
              "<Figure size 432x288 with 1 Axes>"
            ],
            "image/png": "[encoded data removed]"
          },
          "metadata": {
            "needs_background": "light"
          }
        }
      ]
    },
    {
      "cell_type": "markdown",
      "source": [
        "##Predictions \n",
        "With our model, we can predict that a team with a 100 offensive rating would win about 32% of their games in a season while a team with a 115 offensive rating would win 66% of their games in a season.\n"
      ],
      "metadata": {
        "id": "eEAwKOaqXGbu"
      }
    },
    {
      "cell_type": "code",
      "source": [
        "#Prediction for team with 100  Team Offensive rating\n",
        "pred_win = -1.9482172557770767 + 0.02268099*(100)\n",
        "print(pred_win)\n",
        "\n",
        "#Prediction for a team with a 115 Team Offensive Rating\n",
        "pred_win_2 = -1.9482172557770767 + 0.02268099*(115)\n",
        "print(pred_win_2)"
      ],
      "metadata": {
        "colab": {
          "base_uri": "https://localhost:8080/"
        },
        "id": "RWTWWFhdS_8G",
        "outputId": "f6f9e867-c925-46b3-d984-4459ca672794"
      },
      "execution_count": null,
      "outputs": [
        {
          "output_type": "stream",
          "name": "stdout",
          "text": [
            "0.3198817442229236\n",
            "0.6600965942229233\n"
          ]
        }
      ]
    },
    {
      "cell_type": "markdown",
      "source": [
        "##Residual Graph\n",
        "In order to make valid inferences from our regression, the residuals of the regression should follow a normal distribution. Clearly our residual graph shows a normal distribution of the error term. This means that our estimates are valid and true."
      ],
      "metadata": {
        "id": "WkH5Uf-PXf28"
      }
    },
    {
      "cell_type": "code",
      "source": [
        "# Creating residuals from the y_train data and predicted y_data\n",
        "res = (y_test - y_pred)\n",
        "\n",
        "fig = plt.figure()\n",
        "sns.distplot(res, bins = 15)\n",
        "plt.title('Error Terms', fontsize = 15)\n",
        "plt.xlabel('y_train - y_train_pred', fontsize = 15)\n",
        "plt.show()"
      ],
      "metadata": {
        "colab": {
          "base_uri": "https://localhost:8080/",
          "height": 358
        },
        "id": "HBCPhh6HpWm6",
        "outputId": "24a9d492-b1bf-4147-8c3e-2f39c9a359ba"
      },
      "execution_count": null,
      "outputs": [
        {
          "output_type": "stream",
          "name": "stderr",
          "text": [
            "/usr/local/lib/python3.8/dist-packages/seaborn/distributions.py:2619: FutureWarning: `distplot` is a deprecated function and will be removed in a future version. Please adapt your code to use either `displot` (a figure-level function with similar flexibility) or `histplot` (an axes-level function for histograms).\n",
            "  warnings.warn(msg, FutureWarning)\n"
          ]
        },
        {
          "output_type": "display_data",
          "data": {
            "text/plain": [
              "<Figure size 432x288 with 1 Axes>"
            ],
            "image/png": "[encoded data removed]"
          },
          "metadata": {
            "needs_background": "light"
          }
        }
      ]
    },
    {
      "cell_type": "markdown",
      "source": [
        "#Deployment\n",
        "\n",
        "When it comes to basketball, NBA teams understand that a dominant offense is the key to team success. When teams have an efficient offense, they can score points in bunches and create a larger margin of error on the defensive end. Offensive rating measures a team’s total offensive efficiency, taking into account all of the possessions that a team has to work with. On the other hand, defensive rating is a measure of a team’s defensive efficiency, taking into account all of the possessions that a team has to defend against. \n",
        "\n",
        "The research provided in this project concluded that teams are devoted to having a high offensive rating because it gives them the best chance to win games. A team with a high offensive rating is usually able to establish a lead in the game and then maintain it by scoring points with ease. It also opens up opportunities for transition plays and fast breaks that can put points up on the board quickly and efficiently. The ability to score points quickly can also mean that a team does not have to rely on long possessions and can instead capitalize on shorter ones to rack up points. The data revealed that teams who run a surperior offense are almost always one of the best teams in the NBA.\n",
        "\n",
        "In contrast, NBA teams do not generally care about having a low defensive rating. While having a great defensive rating may reduce the amount of points that the opposition scores, it does not always guarantee victory. It is very possible for a team to win games despite having a poor defensive rating. This is because a team can still score more points than the opposition, even if they do not defend as well. Ultimately, it is clear that offense is more important to NBA teams than defense, as a high offensive rating gives them the best chance of winning games, while a higher defensive rating coincides with a lower Win/Loss percentage."
      ],
      "metadata": {
        "id": "ajl3OuSxe13e"
      }
    }
  ]
}